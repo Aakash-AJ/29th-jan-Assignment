{
 "cells": [
  {
   "cell_type": "code",
   "execution_count": null,
   "id": "b13009bf-e555-452f-9a68-753548ade9d0",
   "metadata": {},
   "outputs": [],
   "source": [
    "1.Who developed pythone programming language?\n",
    "Ans- Guido Van Rossum."
   ]
  },
  {
   "cell_type": "code",
   "execution_count": null,
   "id": "14b70812-352d-458a-9ce2-d14b8b1ede4c",
   "metadata": {},
   "outputs": [],
   "source": [
    "2.Which type of programming does python support?\n",
    "Ans- Python is a multi-paradigm programming language,Object-oriented programming \n",
    "and structured programming are fully supported."
   ]
  },
  {
   "cell_type": "code",
   "execution_count": null,
   "id": "4fc8d3da-abc6-4211-9bf0-f6f40660f7b1",
   "metadata": {},
   "outputs": [],
   "source": [
    "3.Is Python case sensitive when dealing with identifiers?\n",
    "Ans- Python is a case-sensitive language"
   ]
  },
  {
   "cell_type": "code",
   "execution_count": null,
   "id": "8533f201-175f-4a1b-a8c0-dd7a89eda732",
   "metadata": {},
   "outputs": [],
   "source": [
    "4.What is the correct extension of the Python file?\n",
    "Ans- .py"
   ]
  },
  {
   "cell_type": "code",
   "execution_count": null,
   "id": "21fa7684-b086-4f84-a08a-0e653e5b916a",
   "metadata": {},
   "outputs": [],
   "source": [
    "5.Is Python code compiled or interpreted?\n",
    "Ans- Python is both compiled as well as an interpreted language."
   ]
  },
  {
   "cell_type": "code",
   "execution_count": null,
   "id": "cf5d33fe-8aca-4982-a9ef-8c360218e095",
   "metadata": {},
   "outputs": [],
   "source": [
    "6.Name a few blocks of code used to define in Python language?\n",
    "Ans-  Braces {}, : a module, a function body, and a class definition"
   ]
  },
  {
   "cell_type": "code",
   "execution_count": null,
   "id": "effc3c3e-fcbf-4c51-87ee-a95b6d8f6c02",
   "metadata": {},
   "outputs": [],
   "source": [
    "7.State a character used to give single-line comments in Python?\n",
    "Ans- Hash character(#)"
   ]
  },
  {
   "cell_type": "code",
   "execution_count": null,
   "id": "bee91ba0-e0de-48d7-b1a8-048d3ca014b9",
   "metadata": {},
   "outputs": [],
   "source": [
    "8.Mention functions which can help us to find the version of python that we are currently working on?\n",
    "Ans- function sys. version"
   ]
  },
  {
   "cell_type": "code",
   "execution_count": null,
   "id": "fcb04edf-0a53-4b0d-81aa-94a8372d0f72",
   "metadata": {},
   "outputs": [],
   "source": [
    "9.Python supports the creation of anonymous functions at runtime, using a construct called\n",
    "Ans- lambda"
   ]
  },
  {
   "cell_type": "code",
   "execution_count": null,
   "id": "35761856-f008-4c39-bbba-aa3648ef3fb7",
   "metadata": {},
   "outputs": [],
   "source": [
    "10.What does pip stand for python?\n",
    "Ans- preferred installer program(pip)"
   ]
  },
  {
   "cell_type": "code",
   "execution_count": null,
   "id": "7ea972ab-9303-497d-a7e4-d88c2ad1c1b6",
   "metadata": {},
   "outputs": [],
   "source": [
    "11.Mention a few built-in functions in python?\n",
    "Ans- print( )\n",
    "     type( ) \n",
    "     input( ) \n",
    "        abs( ) \n",
    "        pow( )\n",
    "        dir( ), etc."
   ]
  },
  {
   "cell_type": "code",
   "execution_count": null,
   "id": "48d270a3-724b-4d31-b423-115280d23f8b",
   "metadata": {},
   "outputs": [],
   "source": [
    "12.What is the maximum possible length of an identifier in Python?\n",
    "Ans- 79 characters"
   ]
  },
  {
   "cell_type": "code",
   "execution_count": null,
   "id": "e15db27f-e7d4-4d10-be7f-284c09c62b80",
   "metadata": {},
   "outputs": [],
   "source": [
    "13.What are the benefits of using Python?\n",
    "Ans- Data science.\n",
    "    Scientific and mathematical computing,\n",
    "    Web development,\n",
    "    Finance and trading,\n",
    "    System automation and administration,\n",
    "    Computer graphics,\n",
    "    Basic game development,\n",
    "    Security and penetration testing, etc."
   ]
  },
  {
   "cell_type": "code",
   "execution_count": null,
   "id": "816af026-752f-46f6-b09e-5400f873b4ec",
   "metadata": {},
   "outputs": [],
   "source": [
    "14.How is memory managed in Python?\n",
    "Ans- Python uses a portion of the memory for internal use and non-object memory.\n",
    "     memory is used for Python object such as int, dict, list, etc."
   ]
  },
  {
   "cell_type": "code",
   "execution_count": null,
   "id": "b1df65f3-de38-419a-bb05-11a68acad743",
   "metadata": {},
   "outputs": [],
   "source": [
    "15.How to install python on windows and set path variables?\n",
    "Ans-Step 1: Download the Python Installer binaries. Open the official Python website in your web browser. ...\n",
    "    Step 2: Run the Executable Installer. Once the installer is downloaded, run the Python installer. ...\n",
    "    Step 3: Add Python to environmental variables. ...\n",
    "    Step 4: Verify the Python Installation.\n",
    "            And for path\n",
    "    1.Right-clicking This PC and going to Properties.\n",
    "\n",
    "    2.Clicking on the Advanced system settings in the menu on the left.\n",
    "\n",
    "    3.Clicking on the Environment Variables button o​n the bottom right.\n",
    "\n",
    "    4.In the System variables section, selecting the Path variable and clicking on Edit. \n",
    "      The next screen will show all the directories that are currently a part of the PATH variable.\n",
    "\n",
    "    5.Clicking on New and entering Python’s install directory.\n",
    "    "
   ]
  },
  {
   "cell_type": "code",
   "execution_count": null,
   "id": "59880527-c849-470f-8c94-13c7b2a2fe3d",
   "metadata": {},
   "outputs": [],
   "source": [
    "16.Is indentation required in python?\n",
    "Ans- Indentation is mandatory in python to define the blocks of statements.\n",
    "     It is preferred to use whitespaces instead of tabs to indent in python. \n",
    "     Python uses four spaces as default indentation spaces."
   ]
  }
 ],
 "metadata": {
  "kernelspec": {
   "display_name": "Python 3 (ipykernel)",
   "language": "python",
   "name": "python3"
  },
  "language_info": {
   "codemirror_mode": {
    "name": "ipython",
    "version": 3
   },
   "file_extension": ".py",
   "mimetype": "text/x-python",
   "name": "python",
   "nbconvert_exporter": "python",
   "pygments_lexer": "ipython3",
   "version": "3.10.8"
  }
 },
 "nbformat": 4,
 "nbformat_minor": 5
}
